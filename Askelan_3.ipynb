{
 "cells": [
  {
   "cell_type": "markdown",
   "id": "d98355a2-3804-48eb-80c5-ca3c2cb3a78a",
   "metadata": {},
   "source": [
    "# Askeland"
   ]
  },
  {
   "cell_type": "markdown",
   "id": "3b2a89f0-ec7f-44f1-bb0d-e45d52ae7ea6",
   "metadata": {},
   "source": [
    "## **Capitulo 3**"
   ]
  },
  {
   "cell_type": "markdown",
   "id": "3ad3d16a-d935-4036-9f6c-dd50aee6a137",
   "metadata": {},
   "source": [
    " 3-14 Calculate the atomic radius in cm for the following:\n",
    "*(a) BCC metal with a0 5 0.3294 nm;\n",
    "and\n",
    "*(b) FCC metal with a0 5 4.0862 Å."
   ]
  },
  {
   "cell_type": "code",
   "execution_count": 11,
   "id": "8f6d30f4-17d8-4bb1-ac5a-ef5b01f68e01",
   "metadata": {},
   "outputs": [],
   "source": [
    "#!export PYTHONPATH=$(pwd)\n",
    "#!$echo $PYTHONPATH\n",
    "#import sys\n",
    "#cristal_path = '/home/andrey/Documentos/Reositorios/Materiales/Proyecto_Materiales/cristal.py'\n",
    "#sys.path.append(cristal_path)\n"
   ]
  },
  {
   "cell_type": "code",
   "execution_count": 2,
   "id": "bbeb0a7e-20dc-4d1d-ac89-2d48aa88c69a",
   "metadata": {},
   "outputs": [],
   "source": [
    "import cristal as cris\n",
    "import radio as ra"
   ]
  },
  {
   "cell_type": "code",
   "execution_count": 3,
   "id": "4a1527d3-f4fd-4774-a33d-04ad7cff050b",
   "metadata": {},
   "outputs": [
    {
     "data": {
      "text/plain": [
       "0.14263438400329706"
      ]
     },
     "execution_count": 3,
     "metadata": {},
     "output_type": "execute_result"
    }
   ],
   "source": [
    "ra.rad_bcc(0.3294)"
   ]
  },
  {
   "cell_type": "code",
   "execution_count": 4,
   "id": "319fc2b6-6c41-4d76-804d-768ba1ff3063",
   "metadata": {},
   "outputs": [
    {
     "data": {
      "text/plain": [
       "1.4446898646422353"
      ]
     },
     "execution_count": 4,
     "metadata": {},
     "output_type": "execute_result"
    }
   ],
   "source": [
    "ra.rad_fcc(4.0862)"
   ]
  },
  {
   "cell_type": "markdown",
   "id": "deec3831-6f53-45b5-884f-5d0d6ef94785",
   "metadata": {},
   "source": [
    "3-15 Calculate the lattice parameter of each of the following elements using their atomic radii: (a) iron, (b) aluminum, (c) copper,\n",
    "and (d) magnesium."
   ]
  },
  {
   "cell_type": "code",
   "execution_count": 5,
   "id": "5503ba30-d8de-4a89-9d73-2a2d8a96bc6e",
   "metadata": {},
   "outputs": [],
   "source": [
    "#Datos\n",
    "Al_r0 = 1.432 #A #FCC\n",
    "Cu_r0 = 1.278 #A #FCC\n",
    "Mg_r0 = 1.604 #A #HCP\n",
    "#Pregunta\n",
    "Al_a = 4.04958 #A #FCC\n",
    "Cu_a = 3.6151 #A #FCC\n",
    "Mg_a = 3.2087 #A #HCP\n",
    "Mg_c = 5.209 #A #HCP\n",
    "\n"
   ]
  },
  {
   "cell_type": "code",
   "execution_count": 6,
   "id": "5688439c-890f-46de-9bd7-bf3dd760b361",
   "metadata": {},
   "outputs": [],
   "source": [
    "import lattice as lat"
   ]
  },
  {
   "cell_type": "code",
   "execution_count": 7,
   "id": "136ccd2f-a012-4cda-b3a1-9aecfa69f12b",
   "metadata": {},
   "outputs": [],
   "source": [
    "Al_a0 = lat.lat_fcc(Al_r0)\n",
    "Cu_a0 = lat.lat_fcc(Al_r0)"
   ]
  },
  {
   "cell_type": "code",
   "execution_count": 8,
   "id": "7e0727a1-87d7-4436-9bce-aaa21ed12700",
   "metadata": {},
   "outputs": [],
   "source": [
    "Mg_lat = lat.lat_hcp(Mg_r0)"
   ]
  },
  {
   "cell_type": "code",
   "execution_count": 9,
   "id": "566e6f8f-0a3b-48d7-87d5-66f2ca3e281a",
   "metadata": {},
   "outputs": [
    {
     "data": {
      "text/plain": [
       "(3.208, 5.2078672)"
      ]
     },
     "execution_count": 9,
     "metadata": {},
     "output_type": "execute_result"
    }
   ],
   "source": [
    "Mg_lat"
   ]
  },
  {
   "cell_type": "code",
   "execution_count": 10,
   "id": "b4904bed-4e48-41f3-b25f-d1e69208039f",
   "metadata": {},
   "outputs": [
    {
     "name": "stdout",
     "output_type": "stream",
     "text": [
      "El parametro de red del Aluminio, cobre y magnesio son: 4.050307642636544 4.050307642636544 (3.208, 5.2078672)\n"
     ]
    }
   ],
   "source": [
    "print('El parametro de red del Aluminio, cobre y magnesio son:', Al_a0,Cu_a0,Mg_lat)"
   ]
  },
  {
   "cell_type": "code",
   "execution_count": null,
   "id": "e0406382-5c86-4d7c-bb5e-5100ebb58284",
   "metadata": {},
   "outputs": [],
   "source": []
  }
 ],
 "metadata": {
  "kernelspec": {
   "display_name": "Python 3 (ipykernel)",
   "language": "python",
   "name": "python3"
  },
  "language_info": {
   "codemirror_mode": {
    "name": "ipython",
    "version": 3
   },
   "file_extension": ".py",
   "mimetype": "text/x-python",
   "name": "python",
   "nbconvert_exporter": "python",
   "pygments_lexer": "ipython3",
   "version": "3.10.14"
  }
 },
 "nbformat": 4,
 "nbformat_minor": 5
}
