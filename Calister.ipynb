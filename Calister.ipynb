{
 "cells": [
  {
   "cell_type": "markdown",
   "id": "5f16ce2c-8d22-446f-b911-b65aae0635c5",
   "metadata": {},
   "source": [
    "# Callister"
   ]
  },
  {
   "cell_type": "markdown",
   "id": "2a941c09-31a3-4daa-ab29-405f5861ca7b",
   "metadata": {},
   "source": [
    "## **Capitulo 2**"
   ]
  },
  {
   "cell_type": "markdown",
   "id": "5a4a5e50-df5f-49df-ac69-d40fee2bb3c2",
   "metadata": {},
   "source": [
    "2.2 Silicon has three naturally occurring isotopes: 92.23% of 28Si, with an atomic weight of 27.9769 amu; 4.68% of 29Si, with an atomic weight of 28.9765 amu; and 3.09% of 30Si, with an atomic weight of 29.9738 amu. On the basis of these data, confirm that the average atomic weight of Si is 28.0854 amu."
   ]
  },
  {
   "cell_type": "code",
   "execution_count": 2,
   "id": "c8010dcb-f82b-4669-882d-41da9b8bbc21",
   "metadata": {},
   "outputs": [
    {
     "name": "stdout",
     "output_type": "stream",
     "text": [
      "El peso molecular promedio del Si es: 28.085385490000004\n"
     ]
    }
   ],
   "source": [
    "# Datos\n",
    "Si_1 = 0.9223\n",
    "Si_1_A = 27.9769 #amu\n",
    "Si_2 = 0.0468\n",
    "Si_2_A = 28.9765 #amu\n",
    "Si_3 = 0.0309\n",
    "Si_3_A = 29.9738 #amu\n",
    "# Preguntas\n",
    "# Si_avg = ?\n",
    "Si_avg = (Si_1*Si_1_A)+(Si_2*Si_2_A)+(Si_3*Si_3_A)\n",
    "print('El peso molecular promedio del Si es:', Si_avg)"
   ]
  },
  {
   "cell_type": "code",
   "execution_count": null,
   "id": "33b49f35-fb72-4520-b2a1-0da013adce69",
   "metadata": {},
   "outputs": [],
   "source": []
  }
 ],
 "metadata": {
  "kernelspec": {
   "display_name": "Python 3 (ipykernel)",
   "language": "python",
   "name": "python3"
  },
  "language_info": {
   "codemirror_mode": {
    "name": "ipython",
    "version": 3
   },
   "file_extension": ".py",
   "mimetype": "text/x-python",
   "name": "python",
   "nbconvert_exporter": "python",
   "pygments_lexer": "ipython3",
   "version": "3.10.14"
  }
 },
 "nbformat": 4,
 "nbformat_minor": 5
}
