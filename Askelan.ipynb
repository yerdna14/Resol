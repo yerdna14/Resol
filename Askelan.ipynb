{
 "cells": [
  {
   "cell_type": "markdown",
   "id": "d98355a2-3804-48eb-80c5-ca3c2cb3a78a",
   "metadata": {},
   "source": [
    "# Askeland"
   ]
  },
  {
   "cell_type": "markdown",
   "id": "3b2a89f0-ec7f-44f1-bb0d-e45d52ae7ea6",
   "metadata": {},
   "source": [
    "## **Capitulo 2**"
   ]
  },
  {
   "cell_type": "markdown",
   "id": "3ad3d16a-d935-4036-9f6c-dd50aee6a137",
   "metadata": {},
   "source": [
    "A) Aluminum foil used for storing food weighs about 0.3 g per square inch.\n",
    "How many atoms of aluminum are contained in one square inch of the foil?\n",
    "(b) U \u0007 sing the densities and atomic weights given in Appendix A, calculate and\n",
    "compare the number of atoms per cubic centimeter in (i) lead and (ii) lithium."
   ]
  },
  {
   "cell_type": "code",
   "execution_count": 7,
   "id": "21afa43e-24e7-40fa-ab53-0b4fab8142c6",
   "metadata": {},
   "outputs": [
    {
     "name": "stdout",
     "output_type": "stream",
     "text": [
      "El numero de atomos en una pulgada2 de Al es: 6.69597949668285e+21 atoms/inc2\n",
      "El numero de atomos de Li y Pd es: 4.711847885706052e+22 3.3018735959071384e+22\n"
     ]
    }
   ],
   "source": [
    "from scipy import constants as con\n",
    "# Datos \n",
    "# Apendice A pag 832\n",
    "Al_mass = 26.981 #g/mol\n",
    "Al_den = 2.699 #g/cm3\n",
    "Pd_mass = 207.19  #g/mol\n",
    "Pd_den = 11.36 #g/cm3\n",
    "Li_mass = 6.94  #g/mol\n",
    "Li_den = 0.543 #g/cm3\n",
    "#Preguntas\n",
    "# a) atom_Al = ?\n",
    "atom_Al = 0.3  * (1/Al_mass) * con.Avogadro\n",
    "#b) Li vs Pd\n",
    "atom_Pd = Pd_den * 1 * 1/Pd_mass * con.Avogadro\n",
    "atom_Li = Li_den * 1 * 1/Li_mass * con.Avogadro\n",
    "print('El numero de atomos en una pulgada2 de Al es:', atom_Al,'atoms/inc2')\n",
    "print('El numero de atomos de Li y Pd es:',atom_Li,atom_Pd)"
   ]
  },
  {
   "cell_type": "code",
   "execution_count": 1,
   "id": "aa8e40a1-84f5-4c8f-9c26-5692817b7fcc",
   "metadata": {},
   "outputs": [
    {
     "data": {
      "text/plain": [
       "6.4516"
      ]
     },
     "execution_count": 1,
     "metadata": {},
     "output_type": "execute_result"
    }
   ],
   "source": [
    "(1/2.54**2)"
   ]
  },
  {
   "cell_type": "code",
   "execution_count": null,
   "id": "e7ff3044-63c9-4bb0-a9ee-4506e9fb1a23",
   "metadata": {},
   "outputs": [],
   "source": []
  }
 ],
 "metadata": {
  "kernelspec": {
   "display_name": "Python 3 (ipykernel)",
   "language": "python",
   "name": "python3"
  },
  "language_info": {
   "codemirror_mode": {
    "name": "ipython",
    "version": 3
   },
   "file_extension": ".py",
   "mimetype": "text/x-python",
   "name": "python",
   "nbconvert_exporter": "python",
   "pygments_lexer": "ipython3",
   "version": "3.10.14"
  }
 },
 "nbformat": 4,
 "nbformat_minor": 5
}
